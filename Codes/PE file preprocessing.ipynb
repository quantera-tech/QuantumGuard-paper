{
 "cells": [
  {
   "cell_type": "markdown",
   "id": "544272b7",
   "metadata": {},
   "source": [
    "## PE file Preprocessing Pipeline\n",
    "\n",
    "---\n",
    "---"
   ]
  },
  {
   "cell_type": "markdown",
   "id": "d7d11081",
   "metadata": {},
   "source": [
    "## Step-1: PE file Parsing using LIEF\n",
    "---\n"
   ]
  },
  {
   "cell_type": "code",
   "execution_count": null,
   "id": "d72efce4",
   "metadata": {
    "vscode": {
     "languageId": "plaintext"
    }
   },
   "outputs": [],
   "source": [
    "import lief\n",
    "\n",
    "# Parse the PE file using LIEF\n",
    "binary = lief.PE.parse(\"malware_sample.exe\")\n",
    "\n",
    "# Verify successful parsing\n",
    "if not binary:\n",
    "    print(\"Failed to parse PE file\")\n",
    "    exit(1)\n",
    "\n",
    "# Display basic PE information\n",
    "print(f\"Number of sections: {len(binary.sections)}\")\n",
    "print(f\"Entry point: 0x{binary.optional_header.addressof_entrypoint:x}\")\n"
   ]
  }
 ],
 "metadata": {
  "language_info": {
   "name": "python"
  }
 },
 "nbformat": 4,
 "nbformat_minor": 5
}
