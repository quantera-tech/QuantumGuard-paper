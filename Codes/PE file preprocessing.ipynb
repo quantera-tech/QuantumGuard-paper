{
 "cells": [
  {
   "cell_type": "markdown",
   "id": "544272b7",
   "metadata": {},
   "source": [
    "## PE file Preprocessing Pipeline\n",
    "\n",
    "---\n",
    "---"
   ]
  },
  {
   "cell_type": "markdown",
   "id": "ae1bb529",
   "metadata": {},
   "source": [
    "STAGE-1\n",
    "---\n",
    "\n",
    "---"
   ]
  },
  {
   "cell_type": "code",
   "execution_count": null,
   "id": "0e452f32",
   "metadata": {
    "vscode": {
     "languageId": "plaintext"
    }
   },
   "outputs": [],
   "source": [
    "# Install required packages\n",
    "!pip install lief pillow numpy pandas scikit-learn matplotlib pennylane\n",
    "\n",
    "# Import necessary libraries\n",
    "import lief\n",
    "import numpy as np\n",
    "import pandas as pd\n",
    "from PIL import Image\n",
    "from sklearn.decomposition import PCA\n",
    "from sklearn.preprocessing import MinMaxScaler, StandardScaler\n",
    "from sklearn.model_selection import train_test_split\n",
    "import matplotlib.pyplot as plt\n",
    "import os\n",
    "import json\n",
    "from typing import Dict, List, Tuple, Optional\n",
    "import warnings\n",
    "warnings.filterwarnings('ignore')\n",
    "\n",
    "print(\"All dependencies installed and imported successfully!\")"
   ]
  },
  {
   "cell_type": "markdown",
   "id": "d7d11081",
   "metadata": {},
   "source": [
    "## Step-1: PE file Parsing using LIEF\n",
    "---\n"
   ]
  },
  {
   "cell_type": "code",
   "execution_count": null,
   "id": "d72efce4",
   "metadata": {
    "vscode": {
     "languageId": "plaintext"
    }
   },
   "outputs": [],
   "source": [
    "def parse_pe_file(pe_file_path):\n",
    "    \"\"\"\n",
    "    Parse PE file using LIEF and extract basic information\n",
    "    \"\"\"\n",
    "    print(f\"Parsing PE file: {pe_file_path}\")\n",
    "    \n",
    "    try:\n",
    "        binary = lief.PE.parse(pe_file_path)\n",
    "        if not binary:\n",
    "            print(\"Failed to parse PE file\")\n",
    "            return None\n",
    "            \n",
    "        print(f\"Successfully parsed PE file\")\n",
    "        print(f\"Number of sections: {len(binary.sections)}\")\n",
    "        print(f\"Entry point: 0x{binary.optional_header.addressof_entrypoint:x}\")\n",
    "        \n",
    "        return binary\n",
    "        \n",
    "    except Exception as e:\n",
    "        print(f\"LIEF parsing error: {e}\")\n",
    "        return None\n",
    "\n",
    "# Test the function\n",
    "# binary = parse_pe_file(\"malware_sample.exe\")"
   ]
  },
  {
   "cell_type": "markdown",
   "id": "37f9dede",
   "metadata": {},
   "source": [
    "## Step-2: Target Section Identification\n",
    "---\n"
   ]
  },
  {
   "cell_type": "code",
   "execution_count": null,
   "id": "6db500e1",
   "metadata": {
    "vscode": {
     "languageId": "plaintext"
    }
   },
   "outputs": [],
   "source": [
    "def extract_target_sections(binary):\n",
    "    \"\"\"\n",
    "    Extract the five target sections from PE file\n",
    "    \"\"\"\n",
    "    # Define the five target sections from the paper\n",
    "    target_sections = [\".text\", \".data\", \".rdata\", \".rsrc\", \".reloc\"]\n",
    "    section_data = {}\n",
    "    \n",
    "    # Extract each target section\n",
    "    for target_section in target_sections:\n",
    "        section_found = False\n",
    "        \n",
    "        for section in binary.sections:\n",
    "            # Clean section name (remove null bytes)\n",
    "            section_name = section.name.strip('\\x00')\n",
    "            \n",
    "            if section_name == target_section:\n",
    "                # Extract section content as bytes\n",
    "                content = section.content\n",
    "                section_data[target_section] = content\n",
    "                section_found = True\n",
    "                \n",
    "                print(f\"Found {target_section}: {len(content)} bytes\")\n",
    "                break\n",
    "        \n",
    "        # Handle missing sections (assign -1 score as per paper)\n",
    "        if not section_found:\n",
    "            section_data[target_section] = None\n",
    "            print(f\"Section {target_section} not found - will receive -1 score\")\n",
    "    \n",
    "    return section_data\n",
    "\n",
    "# Test the function\n",
    "# section_data = extract_target_sections(binary)"
   ]
  },
  {
   "cell_type": "markdown",
   "id": "bd02f08a",
   "metadata": {},
   "source": [
    "## Step-3: Conversion of Section bytes to 8x8 Grayscale Image\n",
    "---\n"
   ]
  },
  {
   "cell_type": "code",
   "execution_count": null,
   "id": "da3ea3d6",
   "metadata": {
    "vscode": {
     "languageId": "plaintext"
    }
   },
   "outputs": [],
   "source": [
    "def bytes_to_8x8_grayscale_image(byte_content, section_name):\n",
    "    \"\"\"\n",
    "    Convert section bytes to 8x8 grayscale image using Nataraj method\n",
    "    \"\"\"\n",
    "    if byte_content is None:\n",
    "        # Missing section - return None\n",
    "        return None\n",
    "    \n",
    "    # Target: 8x8 = 64 bytes needed\n",
    "    target_pixels = 64\n",
    "    \n",
    "    if len(byte_content) >= target_pixels:\n",
    "        # Take first 64 bytes\n",
    "        pixel_values = list(byte_content[:target_pixels])\n",
    "    else:\n",
    "        # Pad with zeros if insufficient bytes\n",
    "        pixel_values = list(byte_content) + [0] * (target_pixels - len(byte_content))\n",
    "    \n",
    "    # Convert to numpy array and reshape to 8x8\n",
    "    image_array = np.array(pixel_values, dtype=np.uint8).reshape(8, 8)\n",
    "    \n",
    "    # Create PIL Image for visualization/saving\n",
    "    pil_image = Image.fromarray(image_array, mode='L')  # 'L' for grayscale\n",
    "    \n",
    "    return image_array, pil_image\n",
    "\n",
    "# Test the function\n",
    "# img_array, pil_img = bytes_to_8x8_grayscale_image(section_data['.text'], '.text'"
   ]
  },
  {
   "cell_type": "markdown",
   "id": "7aa8ce4f",
   "metadata": {},
   "source": [
    "## Step-4: Processing of each sections grayscale image\n",
    "---\n"
   ]
  },
  {
   "cell_type": "code",
   "execution_count": null,
   "id": "34ed4292",
   "metadata": {
    "vscode": {
     "languageId": "plaintext"
    }
   },
   "outputs": [],
   "source": [
    "# Process each section\n",
    "section_images = {}\n",
    "\n",
    "for section_name, content in section_data.items():\n",
    "    if content is not None:\n",
    "        img_array, pil_img = bytes_to_8x8_grayscale_image(content, section_name)\n",
    "        section_images[section_name] = {\n",
    "            'array': img_array,\n",
    "            'pil': pil_img,\n",
    "            'size': len(content)\n",
    "        }\n",
    "\n",
    "        # Save image for visualization\n",
    "        pil_img.save(f\"{section_name.replace('.', '')}_section.png\")\n",
    "        print(f\"Saved {section_name} as 8x8 grayscale image\")\n",
    "    else:\n",
    "        section_images[section_name] = None\n"
   ]
  },
  {
   "cell_type": "markdown",
   "id": "d87b0469",
   "metadata": {},
   "source": [
    "## Step-5: Understanding each Sections Significance\n",
    "---\n"
   ]
  },
  {
   "cell_type": "code",
   "execution_count": null,
   "id": "cdb0934b",
   "metadata": {
    "vscode": {
     "languageId": "plaintext"
    }
   },
   "outputs": [],
   "source": [
    "def explain_section_content(section_name, content_size):\n",
    "    \"\"\"\n",
    "    Explain what each PE section typically contains\n",
    "    \"\"\"\n",
    "    explanations = {\n",
    "        \".text\": f\"Executable code and CPU instructions ({content_size} bytes)\",\n",
    "        \".data\": f\"Initialized global and static variables ({content_size} bytes)\",\n",
    "        \".rdata\": f\"Read-only data like string literals and constants ({content_size} bytes)\",\n",
    "        \".rsrc\": f\"Resources like icons, menus, strings - frequently exploited by malware ({content_size} bytes)\",\n",
    "        \".reloc\": f\"Relocation information for loading at different memory addresses ({content_size} bytes)\"\n",
    "    }\n",
    "\n",
    "    return explanations.get(section_name, f\"Unknown section ({content_size} bytes)\")\n",
    "\n",
    "# Display section information\n",
    "for section_name, section_info in section_images.items():\n",
    "    if section_info is not None:\n",
    "        print(f\"{section_name}: {explain_section_content(section_name, section_info['size'])}\")\n",
    "    else:\n",
    "        print(f\"{section_name}: Missing section - will receive -1 score\")\n"
   ]
  }
 ],
 "metadata": {
  "language_info": {
   "name": "python"
  }
 },
 "nbformat": 4,
 "nbformat_minor": 5
}
