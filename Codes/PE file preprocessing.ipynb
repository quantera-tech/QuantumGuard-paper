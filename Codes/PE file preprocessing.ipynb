{
 "cells": [
  {
   "cell_type": "markdown",
   "id": "544272b7",
   "metadata": {},
   "source": [
    "## PE file Preprocessing Pipeline\n",
    "\n",
    "---\n",
    "---"
   ]
  },
  {
   "cell_type": "markdown",
   "id": "d7d11081",
   "metadata": {},
   "source": [
    "## Step-1: PE file Parsing using LIEF\n",
    "---\n"
   ]
  },
  {
   "cell_type": "code",
   "execution_count": null,
   "id": "d72efce4",
   "metadata": {
    "vscode": {
     "languageId": "plaintext"
    }
   },
   "outputs": [],
   "source": [
    "import lief\n",
    "\n",
    "# Parse the PE file using LIEF\n",
    "binary = lief.PE.parse(\"malware_sample.exe\")\n",
    "\n",
    "# Verify successful parsing\n",
    "if not binary:\n",
    "    print(\"Failed to parse PE file\")\n",
    "    exit(1)\n",
    "\n",
    "# Display basic PE information\n",
    "print(f\"Number of sections: {len(binary.sections)}\")\n",
    "print(f\"Entry point: 0x{binary.optional_header.addressof_entrypoint:x}\")\n"
   ]
  },
  {
   "cell_type": "markdown",
   "id": "37f9dede",
   "metadata": {},
   "source": [
    "## Step-2: Target Section Identification\n",
    "---\n"
   ]
  },
  {
   "cell_type": "code",
   "execution_count": null,
   "id": "6db500e1",
   "metadata": {
    "vscode": {
     "languageId": "plaintext"
    }
   },
   "outputs": [],
   "source": [
    "# Define the five target sections from the paper\n",
    "target_sections = [\".text\", \".data\", \".rdata\", \".rsrc\", \".reloc\"]\n",
    "\n",
    "section_data = {}\n",
    "\n",
    "# Extract each target section\n",
    "for target_section in target_sections:\n",
    "    section_found = False\n",
    "\n",
    "    for section in binary.sections:\n",
    "        # Clean section name (remove null bytes)\n",
    "        section_name = section.name.strip('\\x00')\n",
    "\n",
    "        if section_name == target_section:\n",
    "            # Extract section content as bytes\n",
    "            content = section.content\n",
    "            section_data[target_section] = content\n",
    "            section_found = True\n",
    "\n",
    "            print(f\"Found {target_section}: {len(content)} bytes\")\n",
    "            break\n",
    "\n",
    "    # Handle missing sections (assign -1 score as per paper)\n",
    "    if not section_found:\n",
    "        section_data[target_section] = None\n",
    "        print(f\"Section {target_section} not found - will receive -1 score\")\n"
   ]
  },
  {
   "cell_type": "markdown",
   "id": "bd02f08a",
   "metadata": {},
   "source": [
    "## Step-3: Conversion of Section bytes to 8x8 Grayscale Image\n",
    "---\n"
   ]
  },
  {
   "cell_type": "code",
   "execution_count": null,
   "id": "da3ea3d6",
   "metadata": {
    "vscode": {
     "languageId": "plaintext"
    }
   },
   "outputs": [],
   "source": [
    "import numpy as np\n",
    "from PIL import Image\n",
    "\n",
    "def bytes_to_8x8_grayscale_image(byte_content, section_name):\n",
    "    \"\"\"\n",
    "    Convert section bytes to 8x8 grayscale image using Nataraj method\n",
    "    \"\"\"\n",
    "    if byte_content is None:\n",
    "        # Missing section - create empty image or use -1 indicator\n",
    "        return None\n",
    "\n",
    "    # Target: 8x8 = 64 bytes needed\n",
    "    target_pixels = 64\n",
    "\n",
    "    if len(byte_content) >= target_pixels:\n",
    "        # Take first 64 bytes\n",
    "        pixel_values = list(byte_content[:target_pixels])\n",
    "    else:\n",
    "        # Pad with zeros if insufficient bytes\n",
    "        pixel_values = list(byte_content) + [0] * (target_pixels - len(byte_content))\n",
    "\n",
    "    # Convert to numpy array and reshape to 8x8\n",
    "    image_array = np.array(pixel_values, dtype=np.uint8).reshape(8, 8)\n",
    "\n",
    "    # Create PIL Image for visualization/saving\n",
    "    pil_image = Image.fromarray(image_array, mode='L')  # 'L' for grayscale\n",
    "\n",
    "    return image_array, pil_image\n",
    "\n",
    "\n"
   ]
  },
  {
   "cell_type": "markdown",
   "id": "7aa8ce4f",
   "metadata": {},
   "source": [
    "## Step-3: Processing of each sections grayscale image\n",
    "---\n"
   ]
  },
  {
   "cell_type": "code",
   "execution_count": null,
   "id": "34ed4292",
   "metadata": {
    "vscode": {
     "languageId": "plaintext"
    }
   },
   "outputs": [],
   "source": [
    "# Process each section\n",
    "section_images = {}\n",
    "\n",
    "for section_name, content in section_data.items():\n",
    "    if content is not None:\n",
    "        img_array, pil_img = bytes_to_8x8_grayscale_image(content, section_name)\n",
    "        section_images[section_name] = {\n",
    "            'array': img_array,\n",
    "            'pil': pil_img,\n",
    "            'size': len(content)\n",
    "        }\n",
    "\n",
    "        # Save image for visualization\n",
    "        pil_img.save(f\"{section_name.replace('.', '')}_section.png\")\n",
    "        print(f\"Saved {section_name} as 8x8 grayscale image\")\n",
    "    else:\n",
    "        section_images[section_name] = None\n"
   ]
  }
 ],
 "metadata": {
  "language_info": {
   "name": "python"
  }
 },
 "nbformat": 4,
 "nbformat_minor": 5
}
