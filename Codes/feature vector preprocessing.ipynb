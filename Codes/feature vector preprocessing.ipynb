{
 "cells": [
  {
   "cell_type": "markdown",
   "id": "57a470aa",
   "metadata": {},
   "source": [
    "# Feature Vector Data Preproecessing Pipeline\n",
    "---\n",
    "---"
   ]
  },
  {
   "cell_type": "markdown",
   "id": "d0d8e7f8",
   "metadata": {},
   "source": [
    "## Step-1: Install dependencies\n",
    "---"
   ]
  },
  {
   "cell_type": "code",
   "execution_count": null,
   "id": "a6395aac",
   "metadata": {
    "vscode": {
     "languageId": "plaintext"
    }
   },
   "outputs": [],
   "source": [
    "!pip install -q ember==0.4.0 scikit-learn pandas matplotlib numpy\n",
    "#ember dataset as default\n",
    "\n",
    "import numpy as np\n",
    "import pandas as pd\n",
    "from sklearn.preprocessing import StandardScaler\n",
    "from sklearn.decomposition import PCA\n",
    "from sklearn.model_selection import train_test_split\n",
    "import matplotlib.pyplot as plt"
   ]
  },
  {
   "cell_type": "markdown",
   "id": "4999b25c",
   "metadata": {},
   "source": [
    "## Step-2: Load Feature Vectors\n",
    "---"
   ]
  },
  {
   "cell_type": "code",
   "execution_count": null,
   "id": "c23e0c93",
   "metadata": {
    "vscode": {
     "languageId": "plaintext"
    }
   },
   "outputs": [],
   "source": [
    "# 1. Load EMBER Feature Vectors #it can also be BODMAS\n",
    "from ember import EMBER2018\n",
    "\n",
    "DATA_PATH = '/content/ember2018'  # adjust if needed\n",
    "EMBER2018(DATA_PATH)               # download + extract if not present\n",
    "\n",
    "# Load vectorized features\n",
    "X_train_full = np.memmap(f'{DATA_PATH}/X_train.dat', dtype=np.float32, mode='r', shape=(900000, 2351))\n",
    "y_train_full = np.memmap(f'{DATA_PATH}/y_train.dat', dtype=np.int32,  mode='r', shape=(900000,))\n",
    "\n",
    "mask = y_train_full != -1  # keep labeled rows only\n",
    "X_raw = X_train_full[mask]\n",
    "y_raw = y_train_full[mask]\n",
    "\n",
    "print('Raw EMBER shape:', X_raw.shape, 'Labels:', y_raw.shape)"
   ]
  },
  {
   "cell_type": "markdown",
   "id": "ee6daf1a",
   "metadata": {},
   "source": [
    "## Step-3: Train/Test Split\n",
    "---"
   ]
  },
  {
   "cell_type": "code",
   "execution_count": null,
   "id": "42a1fa9e",
   "metadata": {
    "vscode": {
     "languageId": "plaintext"
    }
   },
   "outputs": [],
   "source": [
    "# 2. Train/Test Split (stratified)\n",
    "X_train, X_test, y_train, y_test = train_test_split(\n",
    "    X_raw, y_raw, test_size=0.20, random_state=42, stratify=y_raw)\n",
    "print('Train:', X_train.shape, 'Test:', X_test.shape)"
   ]
  }
 ],
 "metadata": {
  "language_info": {
   "name": "python"
  }
 },
 "nbformat": 4,
 "nbformat_minor": 5
}
