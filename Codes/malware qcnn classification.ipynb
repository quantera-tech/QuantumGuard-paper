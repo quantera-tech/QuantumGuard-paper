{
 "cells": [
  {
   "cell_type": "markdown",
   "id": "926ac637",
   "metadata": {},
   "source": [
    "# QCNN Classification for Malware Detection\n",
    "\n",
    "---\n",
    "---"
   ]
  },
  {
   "cell_type": "markdown",
   "id": "e854ed5e",
   "metadata": {},
   "source": [
    "## Step-1: Import Dependencies and Setup\n",
    "---"
   ]
  },
  {
   "cell_type": "code",
   "execution_count": null,
   "id": "237016f6",
   "metadata": {
    "vscode": {
     "languageId": "plaintext"
    }
   },
   "outputs": [],
   "source": [
    "import pennylane as qml\n",
    "from pennylane import numpy as np\n",
    "import torch\n",
    "from torch.utils.data import TensorDataset, DataLoader\n",
    "from sklearn.model_selection import train_test_split\n",
    "from sklearn.metrics import accuracy_score\n",
    "\n",
    "n_qubits = 8\n",
    "dev = qml.device(\"default.qubit\", wires=n_qubits)"
   ]
  },
  {
   "cell_type": "markdown",
   "id": "760812ac",
   "metadata": {},
   "source": [
    "## Step-2: QCNN Circuit Definition\n",
    "\n",
    "---"
   ]
  },
  {
   "cell_type": "code",
   "execution_count": null,
   "id": "f453f931",
   "metadata": {
    "vscode": {
     "languageId": "plaintext"
    }
   },
   "outputs": [],
   "source": [
    "@qml.qnode(dev, interface=\"torch\")\n",
    "def qcnn_circuit(x, weights):\n",
    "    # x shape: (5, 2, 15)\n",
    "    # Embed each section\n",
    "    for s in range(5):\n",
    "        angular_hybrid_4_block(x[s, 0], wires=[0,1,2,3])\n",
    "        angular_hybrid_4_block(x[s, 1], wires=[4,5,6,7])\n",
    "    # Parameterized convolution+pooling layers\n",
    "    for layer in weights:\n",
    "        for w in range(0, n_qubits, 2):\n",
    "            qml.templates.StronglyEntanglingLayers(layer, wires=[w, w+1])\n",
    "        # simple pooling: measure and reset second qubit\n",
    "        for w in range(1, n_qubits, 2):\n",
    "            qml.PauliZ(wires=w)\n",
    "            qml.PauliX(wires=w)\n",
    "            qml.PauliX(wires=w)\n",
    "    return qml.expval(qml.PauliZ(0))"
   ]
  }
 ],
 "metadata": {
  "language_info": {
   "name": "python"
  }
 },
 "nbformat": 4,
 "nbformat_minor": 5
}
