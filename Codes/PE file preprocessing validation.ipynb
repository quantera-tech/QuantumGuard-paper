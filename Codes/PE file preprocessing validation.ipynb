{
 "cells": [
  {
   "cell_type": "markdown",
   "id": "e3e89bb9",
   "metadata": {},
   "source": [
    "# PE File Preprocessing Validation\n",
    "\n",
    "---\n",
    "---"
   ]
  },
  {
   "cell_type": "markdown",
   "id": "6b0b9f7c",
   "metadata": {},
   "source": [
    "# Preprocessing Pipeline Validation Functions\n",
    "---"
   ]
  },
  {
   "cell_type": "code",
   "execution_count": null,
   "id": "1b0bb328",
   "metadata": {
    "vscode": {
     "languageId": "plaintext"
    }
   },
   "outputs": [],
   "source": [
    "def validate_angular_embedding_output(angular_embedding_data, labels):\n",
    "    \"\"\"\n",
    "    Validate the output of the BODMAS pipeline\n",
    "    \"\"\"\n",
    "    print(\"=== BODMAS Pipeline Validation ===\\n\")\n",
    "    \n",
    "    validation_results = {\n",
    "        'total_samples': len(angular_embedding_data),\n",
    "        'sections_checked': [\".text\", \".data\", \".rdata\", \".rsrc\", \".reloc\"],\n",
    "        'validation_passed': True,\n",
    "        'issues': []\n",
    "    }\n",
    "    \n",
    "    # Check first 10 samples for validation\n",
    "    for i, pe_data in enumerate(angular_embedding_data[:10]):\n",
    "        for section in validation_results['sections_checked']:\n",
    "            if section not in pe_data:\n",
    "                validation_results['issues'].append(f\"Sample {i}: Missing {section} key\")\n",
    "                validation_results['validation_passed'] = False\n",
    "            else:\n",
    "                section_data = pe_data[section]\n",
    "                \n",
    "                # Check X1 and X2 arrays\n",
    "                if 'X1' not in section_data or 'X2' not in section_data:\n",
    "                    validation_results['issues'].append(f\"Sample {i}, {section}: Missing X1 or X2\")\n",
    "                    validation_results['validation_passed'] = False\n",
    "                else:\n",
    "                    X1, X2 = section_data['X1'], section_data['X2']\n",
    "                    \n",
    "                    # Check array lengths\n",
    "                    if len(X1) != 15 or len(X2) != 15:\n",
    "                        validation_results['issues'].append(\n",
    "                            f\"Sample {i}, {section}: X1 length {len(X1)}, X2 length {len(X2)} (expected 15 each)\"\n",
    "                        )\n",
    "                        validation_results['validation_passed'] = False\n",
    "                    \n",
    "                    # Check angular range for non-missing sections\n",
    "                    if not section_data['missing']:\n",
    "                        if not all(0 <= x <= np.pi/2 for x in X1 if x != -1):\n",
    "                            validation_results['issues'].append(\n",
    "                                f\"Sample {i}, {section}: X1 values outside [0, π/2] range\"\n",
    "                            )\n",
    "                        if not all(0 <= x <= np.pi/2 for x in X2 if x != -1):\n",
    "                            validation_results['issues'].append(\n",
    "                                f\"Sample {i}, {section}: X2 values outside [0, π/2] range\"\n",
    "                            )\n",
    "    \n",
    "    # Print validation results\n",
    "    print(f\"Total samples validated: {validation_results['total_samples']}\")\n",
    "    print(f\"Validation passed: {validation_results['validation_passed']}\")\n",
    "    \n",
    "    if validation_results['issues']:\n",
    "        print(f\"\\nIssues found ({len(validation_results['issues'])}):\")\n",
    "        for issue in validation_results['issues']:\n",
    "            print(f\"  • {issue}\")\n",
    "    \n",
    "    return validation_results\n",
    "\n",
    "# Test validation function\n",
    "# validation_results = validate_angular_embedding_output(pipeline_results['angular_embedding_data'], pipeline_results['valid_labels'])"
   ]
  }
 ],
 "metadata": {
  "language_info": {
   "name": "python"
  }
 },
 "nbformat": 4,
 "nbformat_minor": 5
}
