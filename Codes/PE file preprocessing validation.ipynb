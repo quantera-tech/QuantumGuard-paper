{
 "cells": [
  {
   "cell_type": "markdown",
   "id": "e3e89bb9",
   "metadata": {},
   "source": [
    "# PE File Preprocessing Validation\n",
    "\n",
    "---\n",
    "---"
   ]
  },
  {
   "cell_type": "markdown",
   "id": "6b0b9f7c",
   "metadata": {},
   "source": [
    "# Preprocessing Pipeline Validation Functions\n",
    "---"
   ]
  },
  {
   "cell_type": "code",
   "execution_count": null,
   "id": "1b0bb328",
   "metadata": {
    "vscode": {
     "languageId": "plaintext"
    }
   },
   "outputs": [],
   "source": [
    "def validate_angular_embedding_output(angular_embedding_data, labels):\n",
    "    \"\"\"\n",
    "    Validate the output of the BODMAS pipeline\n",
    "    \"\"\"\n",
    "    print(\"=== BODMAS Pipeline Validation ===\\n\")\n",
    "    \n",
    "    validation_results = {\n",
    "        'total_samples': len(angular_embedding_data),\n",
    "        'sections_checked': [\".text\", \".data\", \".rdata\", \".rsrc\", \".reloc\"],\n",
    "        'validation_passed': True,\n",
    "        'issues': []\n",
    "    }\n",
    "    \n",
    "    # Check first 10 samples for validation\n",
    "    for i, pe_data in enumerate(angular_embedding_data[:10]):\n",
    "        for section in validation_results['sections_checked']:\n",
    "            if section not in pe_data:\n",
    "                validation_results['issues'].append(f\"Sample {i}: Missing {section} key\")\n",
    "                validation_results['validation_passed'] = False\n",
    "            else:\n",
    "                section_data = pe_data[section]\n",
    "                \n",
    "                # Check X1 and X2 arrays\n",
    "                if 'X1' not in section_data or 'X2' not in section_data:\n",
    "                    validation_results['issues'].append(f\"Sample {i}, {section}: Missing X1 or X2\")\n",
    "                    validation_results['validation_passed'] = False\n",
    "                else:\n",
    "                    X1, X2 = section_data['X1'], section_data['X2']\n",
    "                    \n",
    "                    # Check array lengths\n",
    "                    if len(X1) != 15 or len(X2) != 15:\n",
    "                        validation_results['issues'].append(\n",
    "                            f\"Sample {i}, {section}: X1 length {len(X1)}, X2 length {len(X2)} (expected 15 each)\"\n",
    "                        )\n",
    "                        validation_results['validation_passed'] = False\n",
    "                    \n",
    "                    # Check angular range for non-missing sections\n",
    "                    if not section_data['missing']:\n",
    "                        if not all(0 <= x <= np.pi/2 for x in X1 if x != -1):\n",
    "                            validation_results['issues'].append(\n",
    "                                f\"Sample {i}, {section}: X1 values outside [0, π/2] range\"\n",
    "                            )\n",
    "                        if not all(0 <= x <= np.pi/2 for x in X2 if x != -1):\n",
    "                            validation_results['issues'].append(\n",
    "                                f\"Sample {i}, {section}: X2 values outside [0, π/2] range\"\n",
    "                            )\n",
    "    \n",
    "    # Print validation results\n",
    "    print(f\"Total samples validated: {validation_results['total_samples']}\")\n",
    "    print(f\"Validation passed: {validation_results['validation_passed']}\")\n",
    "    \n",
    "    if validation_results['issues']:\n",
    "        print(f\"\\nIssues found ({len(validation_results['issues'])}):\")\n",
    "        for issue in validation_results['issues']:\n",
    "            print(f\"  • {issue}\")\n",
    "    \n",
    "    return validation_results\n",
    "\n",
    "# Test validation function\n",
    "# validation_results = validate_angular_embedding_output(pipeline_results['angular_embedding_data'], pipeline_results['valid_labels'])"
   ]
  },
  {
   "cell_type": "markdown",
   "id": "7548ff85",
   "metadata": {},
   "source": [
    "# Complete Example Usage\n",
    "---"
   ]
  },
  {
   "cell_type": "code",
   "execution_count": null,
   "id": "e497b738",
   "metadata": {
    "vscode": {
     "languageId": "plaintext"
    }
   },
   "outputs": [],
   "source": [
    "def demo_bodmas_pipeline():\n",
    "    \"\"\"\n",
    "    Demonstrate the complete BODMAS preprocessing pipeline with example\n",
    "    \"\"\"\n",
    "    print(\"=== BODMAS Complete Pipeline Demo ===\\n\")\n",
    "    \n",
    "    # Example PE file paths and labels (replace with your actual data)\n",
    "    example_pe_files = [\n",
    "        \"sample_malware_1.exe\",\n",
    "        \"sample_benign_1.exe\", \n",
    "        \"sample_malware_2.exe\",\n",
    "        \"sample_benign_2.exe\"\n",
    "    ]\n",
    "    example_labels = [1, 0, 1, 0]  # 1 = malware, 0 = benign\n",
    "    \n",
    "    print(\"Note: Replace example_pe_files with actual PE file paths\")\n",
    "    print(\"Expected workflow:\")\n",
    "    print(\"1. Stage-1: Extract sections and convert to 8×8 images\")\n",
    "    print(\"2. Stage-2: Train PCA30 models on section images\")\n",
    "    print(\"3. Stage-2: Transform to Angular Hybrid embedding\")\n",
    "    print(\"4. Ready for quantum circuit encoding\\n\")\n",
    "    \n",
    "    # Example of what the pipeline would do:\n",
    "    print(\"Pipeline steps:\")\n",
    "    print(\"✓ parse_pe_file: Parse PE files with LIEF\")\n",
    "    print(\"✓ extract_target_sections: Extract 5 target sections\")\n",
    "    print(\"✓ process_sections_to_images: Convert to 8×8 images\")\n",
    "    print(\"✓ train_pca30_models: Train PCA30 for each section\")\n",
    "    print(\"✓ process_single_pe_to_angular_embedding: Transform to angular features\")\n",
    "    print(\"✓ Angular_Hybrid_4: Ready for quantum circuit encoding\")\n",
    "    \n",
    "    # Show expected output structure\n",
    "    print(\"\\nExpected output structure for each PE file:\")\n",
    "    example_output = {\n",
    "        '.text': {\n",
    "            'X1': \"15 angular features ∈ [0, π/2] for qubits [0,1,2,3]\",\n",
    "            'X2': \"15 angular features ∈ [0, π/2] for qubits [4,5,6,7]\",\n",
    "            'encoding_type': 'Angular-Hybrid4',\n",
    "            'missing': False\n",
    "        },\n",
    "        '.data': {\n",
    "            'X1': \"15 features of -1.0 (missing section)\",\n",
    "            'X2': \"15 features of -1.0 (missing section)\",\n",
    "            'encoding_type': 'missing_section',\n",
    "            'missing': True\n",
    "        }\n",
    "        # Similar structure for .rdata, .rsrc, .reloc\n",
    "    }\n",
    "    \n",
    "    print(json.dumps(example_output, indent=2))\n",
    "    \n",
    "    print(\"\\n=== To run the actual pipeline ===\")\n",
    "    print(\"1. Replace example_pe_files with actual file paths\")\n",
    "    print(\"2. Run: pipeline_results = complete_bodmas_pipeline(pe_files, labels)\")\n",
    "    print(\"3. Validate: validate_angular_embedding_output(pipeline_results['angular_embedding_data'], pipeline_results['valid_labels'])\")\n",
    "    print(\"4. Visualize: visualize_pca_variance(pipeline_results['pca_explained_variance'])\")\n",
    "    print(\"5. Save: save_angular_embedding_dataset(pipeline_results['angular_embedding_data'], pipeline_results['valid_labels'])\")\n",
    "\n",
    "# Run the demo\n",
    "demo_bodmas_pipeline()"
   ]
  }
 ],
 "metadata": {
  "language_info": {
   "name": "python"
  }
 },
 "nbformat": 4,
 "nbformat_minor": 5
}
